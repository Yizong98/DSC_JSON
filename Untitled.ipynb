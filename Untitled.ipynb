{
 "cells": [
  {
   "cell_type": "code",
   "execution_count": 15,
   "metadata": {
    "collapsed": true
   },
   "outputs": [],
   "source": [
    "import json"
   ]
  },
  {
   "cell_type": "code",
   "execution_count": 16,
   "metadata": {},
   "outputs": [],
   "source": [
    "with open('weather.json') as weather:\n",
    "    wea_data = json.load(weather)"
   ]
  },
  {
   "cell_type": "code",
   "execution_count": 5,
   "metadata": {},
   "outputs": [
    {
     "data": {
      "text/plain": [
       "{'forecast': [{'code': '30',\n",
       "   'date': '24 Feb 2018',\n",
       "   'day': 'Sat',\n",
       "   'high': '16',\n",
       "   'low': '3',\n",
       "   'text': 'Partly Cloudy'},\n",
       "  {'code': '28',\n",
       "   'date': '25 Feb 2018',\n",
       "   'day': 'Sun',\n",
       "   'high': '7',\n",
       "   'low': '-1',\n",
       "   'text': 'Mostly Cloudy'},\n",
       "  {'code': '28',\n",
       "   'date': '26 Feb 2018',\n",
       "   'day': 'Mon',\n",
       "   'high': '4',\n",
       "   'low': '-12',\n",
       "   'text': 'Mostly Cloudy'},\n",
       "  {'code': '34',\n",
       "   'date': '27 Feb 2018',\n",
       "   'day': 'Tue',\n",
       "   'high': '2',\n",
       "   'low': '-15',\n",
       "   'text': 'Mostly Sunny'},\n",
       "  {'code': '30',\n",
       "   'date': '28 Feb 2018',\n",
       "   'day': 'Wed',\n",
       "   'high': '5',\n",
       "   'low': '-11',\n",
       "   'text': 'Partly Cloudy'},\n",
       "  {'code': '28',\n",
       "   'date': '01 Mar 2018',\n",
       "   'day': 'Thu',\n",
       "   'high': '14',\n",
       "   'low': '2',\n",
       "   'text': 'Mostly Cloudy'},\n",
       "  {'code': '28',\n",
       "   'date': '02 Mar 2018',\n",
       "   'day': 'Fri',\n",
       "   'high': '17',\n",
       "   'low': '10',\n",
       "   'text': 'Mostly Cloudy'},\n",
       "  {'code': '28',\n",
       "   'date': '03 Mar 2018',\n",
       "   'day': 'Sat',\n",
       "   'high': '22',\n",
       "   'low': '10',\n",
       "   'text': 'Mostly Cloudy'},\n",
       "  {'code': '23',\n",
       "   'date': '04 Mar 2018',\n",
       "   'day': 'Sun',\n",
       "   'high': '25',\n",
       "   'low': '18',\n",
       "   'text': 'Breezy'},\n",
       "  {'code': '28',\n",
       "   'date': '05 Mar 2018',\n",
       "   'day': 'Mon',\n",
       "   'high': '28',\n",
       "   'low': '21',\n",
       "   'text': 'Mostly Cloudy'}],\n",
       " 'title': 'Yahoo! Weather - Moscow, Moscow Federal City, RU'}"
      ]
     },
     "execution_count": 5,
     "metadata": {},
     "output_type": "execute_result"
    }
   ],
   "source": [
    "wea_data"
   ]
  },
  {
   "cell_type": "code",
   "execution_count": 6,
   "metadata": {
    "collapsed": true
   },
   "outputs": [],
   "source": [
    "for cast in wea_data['forecast']:\n",
    "    del cast['code']\n",
    "    del cast['text']"
   ]
  },
  {
   "cell_type": "code",
   "execution_count": 7,
   "metadata": {},
   "outputs": [
    {
     "data": {
      "text/plain": [
       "{'forecast': [{'date': '24 Feb 2018', 'day': 'Sat', 'high': '16', 'low': '3'},\n",
       "  {'date': '25 Feb 2018', 'day': 'Sun', 'high': '7', 'low': '-1'},\n",
       "  {'date': '26 Feb 2018', 'day': 'Mon', 'high': '4', 'low': '-12'},\n",
       "  {'date': '27 Feb 2018', 'day': 'Tue', 'high': '2', 'low': '-15'},\n",
       "  {'date': '28 Feb 2018', 'day': 'Wed', 'high': '5', 'low': '-11'},\n",
       "  {'date': '01 Mar 2018', 'day': 'Thu', 'high': '14', 'low': '2'},\n",
       "  {'date': '02 Mar 2018', 'day': 'Fri', 'high': '17', 'low': '10'},\n",
       "  {'date': '03 Mar 2018', 'day': 'Sat', 'high': '22', 'low': '10'},\n",
       "  {'date': '04 Mar 2018', 'day': 'Sun', 'high': '25', 'low': '18'},\n",
       "  {'date': '05 Mar 2018', 'day': 'Mon', 'high': '28', 'low': '21'}],\n",
       " 'title': 'Yahoo! Weather - Moscow, Moscow Federal City, RU'}"
      ]
     },
     "execution_count": 7,
     "metadata": {},
     "output_type": "execute_result"
    }
   ],
   "source": [
    "wea_data"
   ]
  },
  {
   "cell_type": "code",
   "execution_count": null,
   "metadata": {
    "collapsed": true
   },
   "outputs": [],
   "source": [
    "\n",
    "Fahrenheit = int(raw_input(\"Enter a temperature in Fahrenheit: \"))\n",
    "Celsius = (Fahrenheit - 32) * 5.0/9.0"
   ]
  },
  {
   "cell_type": "code",
   "execution_count": 8,
   "metadata": {
    "collapsed": true
   },
   "outputs": [],
   "source": [
    "''' Homework 10 - DSC 20, SP18'''\n",
    "\n",
    "def workaround(x):\n",
    "  \"\"\"this function exists to let okpy accept submissions. (DO NOT MODIFY)\n",
    "  >>> workaround(5)\n",
    "  10\n",
    "  \"\"\"\n",
    "  return x*2\n",
    "\n",
    "##############################################################################\n",
    "# Problem - JSON\n",
    "##############################################################################\n",
    "import json\n",
    "from datetime import datetime\n",
    "\n",
    "def clean_json(json, keys_list):\n",
    "\t\"*** YOUR CODE HERE ***\"\n",
    "\n",
    "def farenheight_to_celsius(json):\n",
    "\t\"*** YOUR CODE HERE ***\"\n",
    "\n",
    "def reformat_date(json):\n",
    "\t\"*** YOUR CODE HERE ***\"\n",
    "\n",
    "def add_temp_diff(json):\n",
    "\t\"*** YOUR CODE HERE ***\"\n",
    "\n",
    "def largest_temp_diff(json):\n",
    "\t\"*** YOUR CODE HERE ***\"\n",
    "\n",
    "def save_json_file(fname, data):\n",
    "\t\"*** YOUR CODE HERE ***\"\n",
    "\n",
    "def do_problem():\n",
    "\t'''Wrapper that uses your utility methods above to accomplish tasks.'''\n",
    "\t\"*** YOUR CODE HERE ***\" \n",
    "\n"
   ]
  },
  {
   "cell_type": "code",
   "execution_count": 10,
   "metadata": {},
   "outputs": [
    {
     "data": {
      "text/plain": [
       "6"
      ]
     },
     "execution_count": 10,
     "metadata": {},
     "output_type": "execute_result"
    }
   ],
   "source": [
    "round(5.5)"
   ]
  },
  {
   "cell_type": "code",
   "execution_count": 18,
   "metadata": {},
   "outputs": [],
   "source": [
    "for wea in wea_data['forecast']:\n",
    "    clean_json(wea, ['code','text'])"
   ]
  },
  {
   "cell_type": "code",
   "execution_count": 30,
   "metadata": {
    "scrolled": false
   },
   "outputs": [
    {
     "data": {
      "text/plain": [
       "{'forecast': [{'date': '24 Feb 2018',\n",
       "   'day': 'Sat',\n",
       "   'high': '-9',\n",
       "   'low': '-16'},\n",
       "  {'date': '25 Feb 2018', 'day': 'Sun', 'high': '-14', 'low': '-18'},\n",
       "  {'date': '26 Feb 2018', 'day': 'Mon', 'high': '-16', 'low': '-24'},\n",
       "  {'date': '27 Feb 2018', 'day': 'Tue', 'high': '-17', 'low': '-26'},\n",
       "  {'date': '28 Feb 2018', 'day': 'Wed', 'high': '-15', 'low': '-24'},\n",
       "  {'date': '01 Mar 2018', 'day': 'Thu', 'high': '-10', 'low': '-17'},\n",
       "  {'date': '02 Mar 2018', 'day': 'Fri', 'high': '-8', 'low': '-12'},\n",
       "  {'date': '03 Mar 2018', 'day': 'Sat', 'high': '-6', 'low': '-12'},\n",
       "  {'date': '04 Mar 2018', 'day': 'Sun', 'high': '-4', 'low': '-8'},\n",
       "  {'date': '05 Mar 2018', 'day': 'Mon', 'high': '-2', 'low': '-6'}],\n",
       " 'title': 'Yahoo! Weather - Moscow, Moscow Federal City, RU'}"
      ]
     },
     "execution_count": 30,
     "metadata": {},
     "output_type": "execute_result"
    }
   ],
   "source": [
    "wea_data"
   ]
  },
  {
   "cell_type": "code",
   "execution_count": 14,
   "metadata": {},
   "outputs": [],
   "source": [
    "def clean_json(json, keys_list):\n",
    "    \"*** YOUR CODE HERE ***\"\n",
    "    for key in keys_list:\n",
    "        del json[key]"
   ]
  },
  {
   "cell_type": "code",
   "execution_count": 29,
   "metadata": {},
   "outputs": [],
   "source": [
    "for wea in wea_data['forecast']:\n",
    "    farenheight_to_celsius(wea)"
   ]
  },
  {
   "cell_type": "code",
   "execution_count": 28,
   "metadata": {
    "collapsed": true
   },
   "outputs": [],
   "source": [
    "def farenheight_to_celsius(json):\n",
    "    \"*** YOUR CODE HERE ***\"\n",
    "    json['high'] = str(round(((float(json['high'])) - 32) * 5.0/9.0))\n",
    "    json['low'] = str(round(((float(json['low'])) - 32) * 5.0/9.0))"
   ]
  },
  {
   "cell_type": "code",
   "execution_count": 33,
   "metadata": {},
   "outputs": [
    {
     "ename": "AttributeError",
     "evalue": "module 'datetime' has no attribute 'strptime'",
     "output_type": "error",
     "traceback": [
      "\u001b[1;31m---------------------------------------------------------------------------\u001b[0m",
      "\u001b[1;31mAttributeError\u001b[0m                            Traceback (most recent call last)",
      "\u001b[1;32m<ipython-input-33-ac0bd9747c60>\u001b[0m in \u001b[0;36m<module>\u001b[1;34m()\u001b[0m\n\u001b[1;32m----> 1\u001b[1;33m \u001b[0mdatetime_object\u001b[0m \u001b[1;33m=\u001b[0m \u001b[0mdatetime\u001b[0m\u001b[1;33m.\u001b[0m\u001b[0mstrptime\u001b[0m\u001b[1;33m(\u001b[0m\u001b[1;34m'Jun 1 2005  1:33PM'\u001b[0m\u001b[1;33m,\u001b[0m \u001b[1;34m'%b %d %Y %I:%M%p'\u001b[0m\u001b[1;33m)\u001b[0m\u001b[1;33m\u001b[0m\u001b[0m\n\u001b[0m",
      "\u001b[1;31mAttributeError\u001b[0m: module 'datetime' has no attribute 'strptime'"
     ]
    }
   ],
   "source": [
    "datetime_object = datetime.strptime('Jun 1 2005  1:33PM', '%b %d %Y %I:%M%p')"
   ]
  },
  {
   "cell_type": "code",
   "execution_count": 48,
   "metadata": {},
   "outputs": [],
   "source": [
    "from datetime import datetime\n",
    "\n",
    "datetime_object = datetime.strptime('25 Feb 2018', '%d %b %Y')\n"
   ]
  },
  {
   "cell_type": "code",
   "execution_count": 49,
   "metadata": {},
   "outputs": [
    {
     "data": {
      "text/plain": [
       "datetime.datetime(2018, 2, 25, 0, 0)"
      ]
     },
     "execution_count": 49,
     "metadata": {},
     "output_type": "execute_result"
    }
   ],
   "source": [
    "datetime_object"
   ]
  },
  {
   "cell_type": "code",
   "execution_count": 50,
   "metadata": {},
   "outputs": [
    {
     "data": {
      "text/plain": [
       "'25.02.2018'"
      ]
     },
     "execution_count": 50,
     "metadata": {},
     "output_type": "execute_result"
    }
   ],
   "source": [
    "datetime_object.strftime('%d.%m.%Y')"
   ]
  },
  {
   "cell_type": "code",
   "execution_count": 52,
   "metadata": {
    "collapsed": true
   },
   "outputs": [],
   "source": [
    "def reformat_date(json):\n",
    "    \"*** YOUR CODE HERE ***\"\n",
    "    datetime_object = datetime.strptime(json['date'], '%d %b %Y')\n",
    "    json['date'] = datetime_object.strftime('%d.%m.%Y')\n",
    "    "
   ]
  },
  {
   "cell_type": "code",
   "execution_count": 53,
   "metadata": {
    "collapsed": true
   },
   "outputs": [],
   "source": [
    "for wea in wea_data['forecast']:\n",
    "    reformat_date(wea)"
   ]
  },
  {
   "cell_type": "code",
   "execution_count": 60,
   "metadata": {
    "scrolled": true
   },
   "outputs": [
    {
     "data": {
      "text/plain": [
       "{'forecast': [{'date': '24.02.2018',\n",
       "   'day': 'Sat',\n",
       "   'high': '-9',\n",
       "   'low': '-16',\n",
       "   'temp_range': '7'},\n",
       "  {'date': '25.02.2018',\n",
       "   'day': 'Sun',\n",
       "   'high': '-14',\n",
       "   'low': '-18',\n",
       "   'temp_range': '4'},\n",
       "  {'date': '26.02.2018',\n",
       "   'day': 'Mon',\n",
       "   'high': '-16',\n",
       "   'low': '-24',\n",
       "   'temp_range': '8'},\n",
       "  {'date': '27.02.2018',\n",
       "   'day': 'Tue',\n",
       "   'high': '-17',\n",
       "   'low': '-26',\n",
       "   'temp_range': '9'},\n",
       "  {'date': '28.02.2018',\n",
       "   'day': 'Wed',\n",
       "   'high': '-15',\n",
       "   'low': '-24',\n",
       "   'temp_range': '9'},\n",
       "  {'date': '01.03.2018',\n",
       "   'day': 'Thu',\n",
       "   'high': '-10',\n",
       "   'low': '-17',\n",
       "   'temp_range': '7'},\n",
       "  {'date': '02.03.2018',\n",
       "   'day': 'Fri',\n",
       "   'high': '-8',\n",
       "   'low': '-12',\n",
       "   'temp_range': '4'},\n",
       "  {'date': '03.03.2018',\n",
       "   'day': 'Sat',\n",
       "   'high': '-6',\n",
       "   'low': '-12',\n",
       "   'temp_range': '6'},\n",
       "  {'date': '04.03.2018',\n",
       "   'day': 'Sun',\n",
       "   'high': '-4',\n",
       "   'low': '-8',\n",
       "   'temp_range': '4'},\n",
       "  {'date': '05.03.2018',\n",
       "   'day': 'Mon',\n",
       "   'high': '-2',\n",
       "   'low': '-6',\n",
       "   'temp_range': '4'}],\n",
       " 'title': 'Yahoo! Weather - Moscow, Moscow Federal City, RU'}"
      ]
     },
     "execution_count": 60,
     "metadata": {},
     "output_type": "execute_result"
    }
   ],
   "source": [
    "wea_data"
   ]
  },
  {
   "cell_type": "code",
   "execution_count": 63,
   "metadata": {},
   "outputs": [],
   "source": [
    "pp = wea_data.copy()"
   ]
  },
  {
   "cell_type": "code",
   "execution_count": 70,
   "metadata": {},
   "outputs": [],
   "source": [
    "pp['fuck']=\"bitch\""
   ]
  },
  {
   "cell_type": "code",
   "execution_count": 71,
   "metadata": {},
   "outputs": [
    {
     "data": {
      "text/plain": [
       "{'forecast': [{'date': '24.02.2018',\n",
       "   'day': 'Sat',\n",
       "   'high': '-9',\n",
       "   'low': '-16',\n",
       "   'temp_range': '7'},\n",
       "  {'date': '25.02.2018',\n",
       "   'day': 'Sun',\n",
       "   'high': '-14',\n",
       "   'low': '-18',\n",
       "   'temp_range': '4'},\n",
       "  {'date': '26.02.2018',\n",
       "   'day': 'Mon',\n",
       "   'high': '-16',\n",
       "   'low': '-24',\n",
       "   'temp_range': '8'},\n",
       "  {'date': '27.02.2018',\n",
       "   'day': 'Tue',\n",
       "   'high': '-17',\n",
       "   'low': '-26',\n",
       "   'temp_range': '9'},\n",
       "  {'date': '28.02.2018',\n",
       "   'day': 'Wed',\n",
       "   'high': '-15',\n",
       "   'low': '-24',\n",
       "   'temp_range': '9'},\n",
       "  {'date': '01.03.2018',\n",
       "   'day': 'Thu',\n",
       "   'high': '-10',\n",
       "   'low': '-17',\n",
       "   'temp_range': '7'},\n",
       "  {'date': '02.03.2018',\n",
       "   'day': 'Fri',\n",
       "   'high': '-8',\n",
       "   'low': '-12',\n",
       "   'temp_range': '4'},\n",
       "  {'date': '03.03.2018',\n",
       "   'day': 'Sat',\n",
       "   'high': '-6',\n",
       "   'low': '-12',\n",
       "   'temp_range': '6'},\n",
       "  {'date': '04.03.2018',\n",
       "   'day': 'Sun',\n",
       "   'high': '-4',\n",
       "   'low': '-8',\n",
       "   'temp_range': '4'},\n",
       "  {'date': '05.03.2018',\n",
       "   'day': 'Mon',\n",
       "   'high': '-2',\n",
       "   'low': '-6',\n",
       "   'temp_range': '4'}],\n",
       " 'fuck': 'bitch',\n",
       " 'title': 'Yahoo! Weather - Moscow, Moscow Federal City, RU'}"
      ]
     },
     "execution_count": 71,
     "metadata": {},
     "output_type": "execute_result"
    }
   ],
   "source": [
    "pp"
   ]
  },
  {
   "cell_type": "code",
   "execution_count": 55,
   "metadata": {
    "scrolled": true
   },
   "outputs": [
    {
     "data": {
      "text/plain": [
       "[2, 3, 4, 4, 6, 8, 6, 9, 12]"
      ]
     },
     "execution_count": 55,
     "metadata": {},
     "output_type": "execute_result"
    }
   ],
   "source": [
    "[i*x for i in[1,2,3] for x in [2,3,4]]"
   ]
  },
  {
   "cell_type": "code",
   "execution_count": 59,
   "metadata": {},
   "outputs": [],
   "source": [
    "for wea in wea_data['forecast']:\n",
    "    add_temp_diff(wea)"
   ]
  },
  {
   "cell_type": "code",
   "execution_count": 58,
   "metadata": {
    "collapsed": true
   },
   "outputs": [],
   "source": [
    "def add_temp_diff(json):\n",
    "    \"*** YOUR CODE HERE ***\"\n",
    "    json['temp_range']=str(abs(int(json['high'])-int(json['low'])))"
   ]
  },
  {
   "cell_type": "code",
   "execution_count": 79,
   "metadata": {
    "collapsed": true
   },
   "outputs": [],
   "source": [
    "def largest_temp_diff(json):\n",
    "    \"*** YOUR CODE HERE ***\"\n",
    "    checker = 0\n",
    "    date = None\n",
    "    for obj in json['forecast']:\n",
    "        if float(obj['temp_range']) > checker:\n",
    "            checker = float(obj['temp_range'])\n",
    "            date = obj['date']\n",
    "    return date\n",
    "            "
   ]
  },
  {
   "cell_type": "code",
   "execution_count": 78,
   "metadata": {},
   "outputs": [
    {
     "data": {
      "text/plain": [
       "{'forecast': [{'date': '24.02.2018',\n",
       "   'day': 'Sat',\n",
       "   'high': '-9',\n",
       "   'low': '-16',\n",
       "   'temp_range': '7'},\n",
       "  {'date': '25.02.2018',\n",
       "   'day': 'Sun',\n",
       "   'high': '-14',\n",
       "   'low': '-18',\n",
       "   'temp_range': '4'},\n",
       "  {'date': '26.02.2018',\n",
       "   'day': 'Mon',\n",
       "   'high': '-16',\n",
       "   'low': '-24',\n",
       "   'temp_range': '8'},\n",
       "  {'date': '27.02.2018',\n",
       "   'day': 'Tue',\n",
       "   'high': '-17',\n",
       "   'low': '-26',\n",
       "   'temp_range': '9'},\n",
       "  {'date': '28.02.2018',\n",
       "   'day': 'Wed',\n",
       "   'high': '-15',\n",
       "   'low': '-24',\n",
       "   'temp_range': '9'},\n",
       "  {'date': '01.03.2018',\n",
       "   'day': 'Thu',\n",
       "   'high': '-10',\n",
       "   'low': '-17',\n",
       "   'temp_range': '7'},\n",
       "  {'date': '02.03.2018',\n",
       "   'day': 'Fri',\n",
       "   'high': '-8',\n",
       "   'low': '-12',\n",
       "   'temp_range': '4'},\n",
       "  {'date': '03.03.2018',\n",
       "   'day': 'Sat',\n",
       "   'high': '-6',\n",
       "   'low': '-12',\n",
       "   'temp_range': '6'},\n",
       "  {'date': '04.03.2018',\n",
       "   'day': 'Sun',\n",
       "   'high': '-4',\n",
       "   'low': '-8',\n",
       "   'temp_range': '4'},\n",
       "  {'date': '05.03.2018',\n",
       "   'day': 'Mon',\n",
       "   'high': '-2',\n",
       "   'low': '-6',\n",
       "   'temp_range': '4'}],\n",
       " 'title': 'Yahoo! Weather - Moscow, Moscow Federal City, RU'}"
      ]
     },
     "execution_count": 78,
     "metadata": {},
     "output_type": "execute_result"
    }
   ],
   "source": [
    "wea_data"
   ]
  },
  {
   "cell_type": "code",
   "execution_count": 82,
   "metadata": {
    "collapsed": true
   },
   "outputs": [],
   "source": [
    "with open('new_temps.json', 'w') as outfile:\n",
    "    json.dump(wea_data, outfile)"
   ]
  },
  {
   "cell_type": "code",
   "execution_count": 80,
   "metadata": {},
   "outputs": [
    {
     "data": {
      "text/plain": [
       "'27.02.2018'"
      ]
     },
     "execution_count": 80,
     "metadata": {},
     "output_type": "execute_result"
    }
   ],
   "source": [
    "largest_temp_diff(wea_data)"
   ]
  },
  {
   "cell_type": "code",
   "execution_count": 84,
   "metadata": {},
   "outputs": [],
   "source": [
    "''' Homework 10 - DSC 20, SP18'''\n",
    "\n",
    "def workaround(x):\n",
    "  \"\"\"this function exists to let okpy accept submissions. (DO NOT MODIFY)\n",
    "  >>> workaround(5)\n",
    "  10\n",
    "  \"\"\"\n",
    "  return x*2\n",
    "\n",
    "##############################################################################\n",
    "# Problem - JSON\n",
    "##############################################################################\n",
    "import json\n",
    "from datetime import datetime\n",
    "\n",
    "def clean_json(json, keys_list):\n",
    "    \"*** YOUR CODE HERE ***\"\n",
    "    for key in keys_list:\n",
    "        del json[key]\n",
    "\n",
    "def farenheight_to_celsius(json):\n",
    "    \"*** YOUR CODE HERE ***\"\n",
    "    json['high'] = str(round(((float(json['high'])) - 32) * 5.0/9.0))\n",
    "    json['low'] = str(round(((float(json['low'])) - 32) * 5.0/9.0))\n",
    "\n",
    "def reformat_date(json):\n",
    "    \"*** YOUR CODE HERE ***\"\n",
    "    datetime_object = datetime.strptime(json['date'], '%d %b %Y')\n",
    "    json['date'] = datetime_object.strftime('%d.%m.%Y')\n",
    "\n",
    "def add_temp_diff(json):\n",
    "    \"*** YOUR CODE HERE ***\"\n",
    "    json['temp_range']=str(abs(int(json['high'])-int(json['low'])))\n",
    "\n",
    "def largest_temp_diff(json):\n",
    "    \"*** YOUR CODE HERE ***\"\n",
    "    checker = 0\n",
    "    date = None\n",
    "    for obj in json['forecast']:\n",
    "        if float(obj['temp_range']) > checker:\n",
    "            checker = float(obj['temp_range'])\n",
    "            date = obj['date']\n",
    "    return date\n",
    "\n",
    "\n",
    "def save_json_file(fname, data):\n",
    "    \"*** YOUR CODE HERE ***\"\n",
    "    with open(fname, 'w') as outfile:\n",
    "        json.dump(data, outfile)\n",
    "\n",
    "def do_problem():\n",
    "    '''Wrapper that uses your utility methods above to accomplish tasks.'''\n",
    "    \"*** YOUR CODE HERE ***\" \n",
    "    with open('weather.json') as weather:\n",
    "        wea_data = json.load(weather)\n",
    "    for wea in wea_data['forecast']:\n",
    "        clean_json(wea, ['code','text'])\n",
    "        farenheight_to_celsius(wea)\n",
    "        reformat_date(wea)\n",
    "        add_temp_diff(wea)\n",
    "    wea_data['largest_drop']=largest_temp_diff(wea_data)\n",
    "    save_json_file('new_temps.json', wea_data)"
   ]
  },
  {
   "cell_type": "code",
   "execution_count": 87,
   "metadata": {
    "collapsed": true
   },
   "outputs": [],
   "source": [
    "    with open('new_temps.json') as TEST:\n",
    "        wea_test = json.load(TEST)"
   ]
  },
  {
   "cell_type": "code",
   "execution_count": 88,
   "metadata": {},
   "outputs": [
    {
     "data": {
      "text/plain": [
       "{'forecast': [{'date': '24.02.2018',\n",
       "   'day': 'Sat',\n",
       "   'high': '-9',\n",
       "   'low': '-16',\n",
       "   'temp_range': '7'},\n",
       "  {'date': '25.02.2018',\n",
       "   'day': 'Sun',\n",
       "   'high': '-14',\n",
       "   'low': '-18',\n",
       "   'temp_range': '4'},\n",
       "  {'date': '26.02.2018',\n",
       "   'day': 'Mon',\n",
       "   'high': '-16',\n",
       "   'low': '-24',\n",
       "   'temp_range': '8'},\n",
       "  {'date': '27.02.2018',\n",
       "   'day': 'Tue',\n",
       "   'high': '-17',\n",
       "   'low': '-26',\n",
       "   'temp_range': '9'},\n",
       "  {'date': '28.02.2018',\n",
       "   'day': 'Wed',\n",
       "   'high': '-15',\n",
       "   'low': '-24',\n",
       "   'temp_range': '9'},\n",
       "  {'date': '01.03.2018',\n",
       "   'day': 'Thu',\n",
       "   'high': '-10',\n",
       "   'low': '-17',\n",
       "   'temp_range': '7'},\n",
       "  {'date': '02.03.2018',\n",
       "   'day': 'Fri',\n",
       "   'high': '-8',\n",
       "   'low': '-12',\n",
       "   'temp_range': '4'},\n",
       "  {'date': '03.03.2018',\n",
       "   'day': 'Sat',\n",
       "   'high': '-6',\n",
       "   'low': '-12',\n",
       "   'temp_range': '6'},\n",
       "  {'date': '04.03.2018',\n",
       "   'day': 'Sun',\n",
       "   'high': '-4',\n",
       "   'low': '-8',\n",
       "   'temp_range': '4'},\n",
       "  {'date': '05.03.2018',\n",
       "   'day': 'Mon',\n",
       "   'high': '-2',\n",
       "   'low': '-6',\n",
       "   'temp_range': '4'}],\n",
       " 'largest_drop': '27.02.2018',\n",
       " 'title': 'Yahoo! Weather - Moscow, Moscow Federal City, RU'}"
      ]
     },
     "execution_count": 88,
     "metadata": {},
     "output_type": "execute_result"
    }
   ],
   "source": [
    "wea_test"
   ]
  },
  {
   "cell_type": "code",
   "execution_count": 85,
   "metadata": {
    "collapsed": true
   },
   "outputs": [],
   "source": [
    "do_problem()"
   ]
  },
  {
   "cell_type": "code",
   "execution_count": 89,
   "metadata": {},
   "outputs": [
    {
     "name": "stdout",
     "output_type": "stream",
     "text": [
      "{\"title\": \"Yahoo! Weather - Moscow, Moscow Federal City, RU\", \"forecast\": [{\"date\": \"24.02.2018\", \"day\": \"Sat\", \"high\": \"-9\", \"low\": \"-16\", \"temp_range\": \"7\"}, {\"date\": \"25.02.2018\", \"day\": \"Sun\", \"high\": \"-14\", \"low\": \"-18\", \"temp_range\": \"4\"}, {\"date\": \"26.02.2018\", \"day\": \"Mon\", \"high\": \"-16\", \"low\": \"-24\", \"temp_range\": \"8\"}, {\"date\": \"27.02.2018\", \"day\": \"Tue\", \"high\": \"-17\", \"low\": \"-26\", \"temp_range\": \"9\"}, {\"date\": \"28.02.2018\", \"day\": \"Wed\", \"high\": \"-15\", \"low\": \"-24\", \"temp_range\": \"9\"}, {\"date\": \"01.03.2018\", \"day\": \"Thu\", \"high\": \"-10\", \"low\": \"-17\", \"temp_range\": \"7\"}, {\"date\": \"02.03.2018\", \"day\": \"Fri\", \"high\": \"-8\", \"low\": \"-12\", \"temp_range\": \"4\"}, {\"date\": \"03.03.2018\", \"day\": \"Sat\", \"high\": \"-6\", \"low\": \"-12\", \"temp_range\": \"6\"}, {\"date\": \"04.03.2018\", \"day\": \"Sun\", \"high\": \"-4\", \"low\": \"-8\", \"temp_range\": \"4\"}, {\"date\": \"05.03.2018\", \"day\": \"Mon\", \"high\": \"-2\", \"low\": \"-6\", \"temp_range\": \"4\"}], \"largest_drop\": \"27.02.2018\"}\n"
     ]
    }
   ],
   "source": [
    ">>> new_string = json.dumps(wea_test)\n",
    ">>> print(new_string)"
   ]
  },
  {
   "cell_type": "code",
   "execution_count": 90,
   "metadata": {},
   "outputs": [
    {
     "name": "stdout",
     "output_type": "stream",
     "text": [
      "{\n",
      "  \"title\": \"Yahoo! Weather - Moscow, Moscow Federal City, RU\",\n",
      "  \"forecast\": [\n",
      "    {\n",
      "      \"date\": \"24.02.2018\",\n",
      "      \"day\": \"Sat\",\n",
      "      \"high\": \"-9\",\n",
      "      \"low\": \"-16\",\n",
      "      \"temp_range\": \"7\"\n",
      "    },\n",
      "    {\n",
      "      \"date\": \"25.02.2018\",\n",
      "      \"day\": \"Sun\",\n",
      "      \"high\": \"-14\",\n",
      "      \"low\": \"-18\",\n",
      "      \"temp_range\": \"4\"\n",
      "    },\n",
      "    {\n",
      "      \"date\": \"26.02.2018\",\n",
      "      \"day\": \"Mon\",\n",
      "      \"high\": \"-16\",\n",
      "      \"low\": \"-24\",\n",
      "      \"temp_range\": \"8\"\n",
      "    },\n",
      "    {\n",
      "      \"date\": \"27.02.2018\",\n",
      "      \"day\": \"Tue\",\n",
      "      \"high\": \"-17\",\n",
      "      \"low\": \"-26\",\n",
      "      \"temp_range\": \"9\"\n",
      "    },\n",
      "    {\n",
      "      \"date\": \"28.02.2018\",\n",
      "      \"day\": \"Wed\",\n",
      "      \"high\": \"-15\",\n",
      "      \"low\": \"-24\",\n",
      "      \"temp_range\": \"9\"\n",
      "    },\n",
      "    {\n",
      "      \"date\": \"01.03.2018\",\n",
      "      \"day\": \"Thu\",\n",
      "      \"high\": \"-10\",\n",
      "      \"low\": \"-17\",\n",
      "      \"temp_range\": \"7\"\n",
      "    },\n",
      "    {\n",
      "      \"date\": \"02.03.2018\",\n",
      "      \"day\": \"Fri\",\n",
      "      \"high\": \"-8\",\n",
      "      \"low\": \"-12\",\n",
      "      \"temp_range\": \"4\"\n",
      "    },\n",
      "    {\n",
      "      \"date\": \"03.03.2018\",\n",
      "      \"day\": \"Sat\",\n",
      "      \"high\": \"-6\",\n",
      "      \"low\": \"-12\",\n",
      "      \"temp_range\": \"6\"\n",
      "    },\n",
      "    {\n",
      "      \"date\": \"04.03.2018\",\n",
      "      \"day\": \"Sun\",\n",
      "      \"high\": \"-4\",\n",
      "      \"low\": \"-8\",\n",
      "      \"temp_range\": \"4\"\n",
      "    },\n",
      "    {\n",
      "      \"date\": \"05.03.2018\",\n",
      "      \"day\": \"Mon\",\n",
      "      \"high\": \"-2\",\n",
      "      \"low\": \"-6\",\n",
      "      \"temp_range\": \"4\"\n",
      "    }\n",
      "  ],\n",
      "  \"largest_drop\": \"27.02.2018\"\n",
      "}\n"
     ]
    }
   ],
   "source": [
    ">>> new_string = json.dumps(wea_test, indent = 2)\n",
    ">>> print(new_string)"
   ]
  }
 ],
 "metadata": {
  "kernelspec": {
   "display_name": "Python 3",
   "language": "python",
   "name": "python3"
  },
  "language_info": {
   "codemirror_mode": {
    "name": "ipython",
    "version": 3
   },
   "file_extension": ".py",
   "mimetype": "text/x-python",
   "name": "python",
   "nbconvert_exporter": "python",
   "pygments_lexer": "ipython3",
   "version": "3.6.3"
  }
 },
 "nbformat": 4,
 "nbformat_minor": 2
}
